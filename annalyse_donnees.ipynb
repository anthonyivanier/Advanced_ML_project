{
  "nbformat": 4,
  "nbformat_minor": 0,
  "metadata": {
    "colab": {
      "provenance": []
    },
    "kernelspec": {
      "name": "python3",
      "display_name": "Python 3"
    },
    "language_info": {
      "name": "python"
    }
  },
  "cells": [
    {
      "cell_type": "code",
      "execution_count": 1,
      "metadata": {
        "id": "JI7Z5vHLwt0C"
      },
      "outputs": [],
      "source": [
        "import pandas as pd\n",
        "import numpy as np"
      ]
    },
    {
      "cell_type": "code",
      "source": [
        "df = pd.read_csv('landmarks.csv')"
      ],
      "metadata": {
        "id": "TCajqcrXw5RH"
      },
      "execution_count": 37,
      "outputs": []
    },
    {
      "cell_type": "markdown",
      "source": [
        "# Prétraitement\n",
        "\n",
        "On décale le point 0 en (0,0) et on normalise pour que la longueur entre le point 0 et 9 soit de 1"
      ],
      "metadata": {
        "id": "Yl-5fj8TxOEq"
      }
    },
    {
      "cell_type": "code",
      "source": [
        "# l = np.sqrt((df.x_9-df.x_0)**2 + (df.y_9-df.y_0)**2)\n",
        "# for i in range(20,0,-1):\n",
        "#   df['x_'+str(i)] = (df['x_'+str(i)]-df.x_0)/l\n",
        "#   df['y_'+str(i)] = (df['y_'+str(i)]-df.y_0)/l"
      ],
      "metadata": {
        "id": "JtOUTLkz5zdg"
      },
      "execution_count": 38,
      "outputs": []
    },
    {
      "cell_type": "code",
      "source": [
        "for i in range(1,21):\n",
        " df['d_'+str(i)] = np.sqrt((df['x_'+str(i)]-df.x_0)**2 + (df['y_'+str(i)]-df.y_0)**2)"
      ],
      "metadata": {
        "id": "ALqEzPpdxG8x"
      },
      "execution_count": 39,
      "outputs": []
    },
    {
      "cell_type": "code",
      "source": [
        "l = df.d_9\n",
        "for i in range(20,0,-1):\n",
        "  df['d_'+str(i)] = df['d_'+str(i)]/l"
      ],
      "metadata": {
        "id": "X4KKYxTPzXgl"
      },
      "execution_count": 40,
      "outputs": []
    },
    {
      "cell_type": "code",
      "source": [
        "df.head()"
      ],
      "metadata": {
        "colab": {
          "base_uri": "https://localhost:8080/",
          "height": 273
        },
        "id": "Ur5uCKNKrwua",
        "outputId": "e8926d9f-bc43-45ea-ec24-ac40f32271dd"
      },
      "execution_count": 44,
      "outputs": [
        {
          "output_type": "execute_result",
          "data": {
            "text/plain": [
              "   Unnamed: 0  lettre       x_0       y_0       x_1       y_1       x_2  \\\n",
              "0           0       0  0.246270  0.719223  0.281536  0.711615  0.322022   \n",
              "1           1       0  0.243749  0.721589  0.277171  0.715400  0.313495   \n",
              "2           2       0  0.246667  0.726333  0.282944  0.717739  0.317869   \n",
              "3           3       0  0.240678  0.734765  0.278785  0.719890  0.315457   \n",
              "4           4       0  0.237900  0.727430  0.274309  0.732956  0.317514   \n",
              "\n",
              "        y_2       x_3       y_3  ...      d_11      d_12      d_13      d_14  \\\n",
              "0  0.675903  0.349107  0.649566  ...  0.726443  0.673381  0.921206  1.026801   \n",
              "1  0.679614  0.344198  0.651386  ...  0.703775  0.672594  0.933350  1.036892   \n",
              "2  0.680070  0.349103  0.653151  ...  0.702782  0.708060  0.886942  0.944200   \n",
              "3  0.683802  0.348847  0.654480  ...  0.761287  0.738651  0.892772  1.056187   \n",
              "4  0.692271  0.351195  0.654238  ...  0.726836  0.720784  0.925206  1.045892   \n",
              "\n",
              "       d_15      d_16      d_17      d_18      d_19      d_20  \n",
              "0  0.630544  0.572396  0.831718  0.898877  0.627446  0.581415  \n",
              "1  0.641686  0.565920  0.836112  0.922656  0.658850  0.591691  \n",
              "2  0.646206  0.625241  0.749292  0.818493  0.659518  0.660635  \n",
              "3  0.703026  0.634014  0.755830  0.894208  0.708251  0.689711  \n",
              "4  0.684522  0.602392  0.835276  0.935421  0.690741  0.637738  \n",
              "\n",
              "[5 rows x 64 columns]"
            ],
            "text/html": [
              "\n",
              "  <div id=\"df-f1fe4af8-49e0-4dd5-8b21-fc916c195602\" class=\"colab-df-container\">\n",
              "    <div>\n",
              "<style scoped>\n",
              "    .dataframe tbody tr th:only-of-type {\n",
              "        vertical-align: middle;\n",
              "    }\n",
              "\n",
              "    .dataframe tbody tr th {\n",
              "        vertical-align: top;\n",
              "    }\n",
              "\n",
              "    .dataframe thead th {\n",
              "        text-align: right;\n",
              "    }\n",
              "</style>\n",
              "<table border=\"1\" class=\"dataframe\">\n",
              "  <thead>\n",
              "    <tr style=\"text-align: right;\">\n",
              "      <th></th>\n",
              "      <th>Unnamed: 0</th>\n",
              "      <th>lettre</th>\n",
              "      <th>x_0</th>\n",
              "      <th>y_0</th>\n",
              "      <th>x_1</th>\n",
              "      <th>y_1</th>\n",
              "      <th>x_2</th>\n",
              "      <th>y_2</th>\n",
              "      <th>x_3</th>\n",
              "      <th>y_3</th>\n",
              "      <th>...</th>\n",
              "      <th>d_11</th>\n",
              "      <th>d_12</th>\n",
              "      <th>d_13</th>\n",
              "      <th>d_14</th>\n",
              "      <th>d_15</th>\n",
              "      <th>d_16</th>\n",
              "      <th>d_17</th>\n",
              "      <th>d_18</th>\n",
              "      <th>d_19</th>\n",
              "      <th>d_20</th>\n",
              "    </tr>\n",
              "  </thead>\n",
              "  <tbody>\n",
              "    <tr>\n",
              "      <th>0</th>\n",
              "      <td>0</td>\n",
              "      <td>0</td>\n",
              "      <td>0.246270</td>\n",
              "      <td>0.719223</td>\n",
              "      <td>0.281536</td>\n",
              "      <td>0.711615</td>\n",
              "      <td>0.322022</td>\n",
              "      <td>0.675903</td>\n",
              "      <td>0.349107</td>\n",
              "      <td>0.649566</td>\n",
              "      <td>...</td>\n",
              "      <td>0.726443</td>\n",
              "      <td>0.673381</td>\n",
              "      <td>0.921206</td>\n",
              "      <td>1.026801</td>\n",
              "      <td>0.630544</td>\n",
              "      <td>0.572396</td>\n",
              "      <td>0.831718</td>\n",
              "      <td>0.898877</td>\n",
              "      <td>0.627446</td>\n",
              "      <td>0.581415</td>\n",
              "    </tr>\n",
              "    <tr>\n",
              "      <th>1</th>\n",
              "      <td>1</td>\n",
              "      <td>0</td>\n",
              "      <td>0.243749</td>\n",
              "      <td>0.721589</td>\n",
              "      <td>0.277171</td>\n",
              "      <td>0.715400</td>\n",
              "      <td>0.313495</td>\n",
              "      <td>0.679614</td>\n",
              "      <td>0.344198</td>\n",
              "      <td>0.651386</td>\n",
              "      <td>...</td>\n",
              "      <td>0.703775</td>\n",
              "      <td>0.672594</td>\n",
              "      <td>0.933350</td>\n",
              "      <td>1.036892</td>\n",
              "      <td>0.641686</td>\n",
              "      <td>0.565920</td>\n",
              "      <td>0.836112</td>\n",
              "      <td>0.922656</td>\n",
              "      <td>0.658850</td>\n",
              "      <td>0.591691</td>\n",
              "    </tr>\n",
              "    <tr>\n",
              "      <th>2</th>\n",
              "      <td>2</td>\n",
              "      <td>0</td>\n",
              "      <td>0.246667</td>\n",
              "      <td>0.726333</td>\n",
              "      <td>0.282944</td>\n",
              "      <td>0.717739</td>\n",
              "      <td>0.317869</td>\n",
              "      <td>0.680070</td>\n",
              "      <td>0.349103</td>\n",
              "      <td>0.653151</td>\n",
              "      <td>...</td>\n",
              "      <td>0.702782</td>\n",
              "      <td>0.708060</td>\n",
              "      <td>0.886942</td>\n",
              "      <td>0.944200</td>\n",
              "      <td>0.646206</td>\n",
              "      <td>0.625241</td>\n",
              "      <td>0.749292</td>\n",
              "      <td>0.818493</td>\n",
              "      <td>0.659518</td>\n",
              "      <td>0.660635</td>\n",
              "    </tr>\n",
              "    <tr>\n",
              "      <th>3</th>\n",
              "      <td>3</td>\n",
              "      <td>0</td>\n",
              "      <td>0.240678</td>\n",
              "      <td>0.734765</td>\n",
              "      <td>0.278785</td>\n",
              "      <td>0.719890</td>\n",
              "      <td>0.315457</td>\n",
              "      <td>0.683802</td>\n",
              "      <td>0.348847</td>\n",
              "      <td>0.654480</td>\n",
              "      <td>...</td>\n",
              "      <td>0.761287</td>\n",
              "      <td>0.738651</td>\n",
              "      <td>0.892772</td>\n",
              "      <td>1.056187</td>\n",
              "      <td>0.703026</td>\n",
              "      <td>0.634014</td>\n",
              "      <td>0.755830</td>\n",
              "      <td>0.894208</td>\n",
              "      <td>0.708251</td>\n",
              "      <td>0.689711</td>\n",
              "    </tr>\n",
              "    <tr>\n",
              "      <th>4</th>\n",
              "      <td>4</td>\n",
              "      <td>0</td>\n",
              "      <td>0.237900</td>\n",
              "      <td>0.727430</td>\n",
              "      <td>0.274309</td>\n",
              "      <td>0.732956</td>\n",
              "      <td>0.317514</td>\n",
              "      <td>0.692271</td>\n",
              "      <td>0.351195</td>\n",
              "      <td>0.654238</td>\n",
              "      <td>...</td>\n",
              "      <td>0.726836</td>\n",
              "      <td>0.720784</td>\n",
              "      <td>0.925206</td>\n",
              "      <td>1.045892</td>\n",
              "      <td>0.684522</td>\n",
              "      <td>0.602392</td>\n",
              "      <td>0.835276</td>\n",
              "      <td>0.935421</td>\n",
              "      <td>0.690741</td>\n",
              "      <td>0.637738</td>\n",
              "    </tr>\n",
              "  </tbody>\n",
              "</table>\n",
              "<p>5 rows × 64 columns</p>\n",
              "</div>\n",
              "    <div class=\"colab-df-buttons\">\n",
              "\n",
              "  <div class=\"colab-df-container\">\n",
              "    <button class=\"colab-df-convert\" onclick=\"convertToInteractive('df-f1fe4af8-49e0-4dd5-8b21-fc916c195602')\"\n",
              "            title=\"Convert this dataframe to an interactive table.\"\n",
              "            style=\"display:none;\">\n",
              "\n",
              "  <svg xmlns=\"http://www.w3.org/2000/svg\" height=\"24px\" viewBox=\"0 -960 960 960\">\n",
              "    <path d=\"M120-120v-720h720v720H120Zm60-500h600v-160H180v160Zm220 220h160v-160H400v160Zm0 220h160v-160H400v160ZM180-400h160v-160H180v160Zm440 0h160v-160H620v160ZM180-180h160v-160H180v160Zm440 0h160v-160H620v160Z\"/>\n",
              "  </svg>\n",
              "    </button>\n",
              "\n",
              "  <style>\n",
              "    .colab-df-container {\n",
              "      display:flex;\n",
              "      gap: 12px;\n",
              "    }\n",
              "\n",
              "    .colab-df-convert {\n",
              "      background-color: #E8F0FE;\n",
              "      border: none;\n",
              "      border-radius: 50%;\n",
              "      cursor: pointer;\n",
              "      display: none;\n",
              "      fill: #1967D2;\n",
              "      height: 32px;\n",
              "      padding: 0 0 0 0;\n",
              "      width: 32px;\n",
              "    }\n",
              "\n",
              "    .colab-df-convert:hover {\n",
              "      background-color: #E2EBFA;\n",
              "      box-shadow: 0px 1px 2px rgba(60, 64, 67, 0.3), 0px 1px 3px 1px rgba(60, 64, 67, 0.15);\n",
              "      fill: #174EA6;\n",
              "    }\n",
              "\n",
              "    .colab-df-buttons div {\n",
              "      margin-bottom: 4px;\n",
              "    }\n",
              "\n",
              "    [theme=dark] .colab-df-convert {\n",
              "      background-color: #3B4455;\n",
              "      fill: #D2E3FC;\n",
              "    }\n",
              "\n",
              "    [theme=dark] .colab-df-convert:hover {\n",
              "      background-color: #434B5C;\n",
              "      box-shadow: 0px 1px 3px 1px rgba(0, 0, 0, 0.15);\n",
              "      filter: drop-shadow(0px 1px 2px rgba(0, 0, 0, 0.3));\n",
              "      fill: #FFFFFF;\n",
              "    }\n",
              "  </style>\n",
              "\n",
              "    <script>\n",
              "      const buttonEl =\n",
              "        document.querySelector('#df-f1fe4af8-49e0-4dd5-8b21-fc916c195602 button.colab-df-convert');\n",
              "      buttonEl.style.display =\n",
              "        google.colab.kernel.accessAllowed ? 'block' : 'none';\n",
              "\n",
              "      async function convertToInteractive(key) {\n",
              "        const element = document.querySelector('#df-f1fe4af8-49e0-4dd5-8b21-fc916c195602');\n",
              "        const dataTable =\n",
              "          await google.colab.kernel.invokeFunction('convertToInteractive',\n",
              "                                                    [key], {});\n",
              "        if (!dataTable) return;\n",
              "\n",
              "        const docLinkHtml = 'Like what you see? Visit the ' +\n",
              "          '<a target=\"_blank\" href=https://colab.research.google.com/notebooks/data_table.ipynb>data table notebook</a>'\n",
              "          + ' to learn more about interactive tables.';\n",
              "        element.innerHTML = '';\n",
              "        dataTable['output_type'] = 'display_data';\n",
              "        await google.colab.output.renderOutput(dataTable, element);\n",
              "        const docLink = document.createElement('div');\n",
              "        docLink.innerHTML = docLinkHtml;\n",
              "        element.appendChild(docLink);\n",
              "      }\n",
              "    </script>\n",
              "  </div>\n",
              "\n",
              "\n",
              "<div id=\"df-83c276a8-2bf9-4ea4-ac2a-affd7ab9d8d6\">\n",
              "  <button class=\"colab-df-quickchart\" onclick=\"quickchart('df-83c276a8-2bf9-4ea4-ac2a-affd7ab9d8d6')\"\n",
              "            title=\"Suggest charts\"\n",
              "            style=\"display:none;\">\n",
              "\n",
              "<svg xmlns=\"http://www.w3.org/2000/svg\" height=\"24px\"viewBox=\"0 0 24 24\"\n",
              "     width=\"24px\">\n",
              "    <g>\n",
              "        <path d=\"M19 3H5c-1.1 0-2 .9-2 2v14c0 1.1.9 2 2 2h14c1.1 0 2-.9 2-2V5c0-1.1-.9-2-2-2zM9 17H7v-7h2v7zm4 0h-2V7h2v10zm4 0h-2v-4h2v4z\"/>\n",
              "    </g>\n",
              "</svg>\n",
              "  </button>\n",
              "\n",
              "<style>\n",
              "  .colab-df-quickchart {\n",
              "      --bg-color: #E8F0FE;\n",
              "      --fill-color: #1967D2;\n",
              "      --hover-bg-color: #E2EBFA;\n",
              "      --hover-fill-color: #174EA6;\n",
              "      --disabled-fill-color: #AAA;\n",
              "      --disabled-bg-color: #DDD;\n",
              "  }\n",
              "\n",
              "  [theme=dark] .colab-df-quickchart {\n",
              "      --bg-color: #3B4455;\n",
              "      --fill-color: #D2E3FC;\n",
              "      --hover-bg-color: #434B5C;\n",
              "      --hover-fill-color: #FFFFFF;\n",
              "      --disabled-bg-color: #3B4455;\n",
              "      --disabled-fill-color: #666;\n",
              "  }\n",
              "\n",
              "  .colab-df-quickchart {\n",
              "    background-color: var(--bg-color);\n",
              "    border: none;\n",
              "    border-radius: 50%;\n",
              "    cursor: pointer;\n",
              "    display: none;\n",
              "    fill: var(--fill-color);\n",
              "    height: 32px;\n",
              "    padding: 0;\n",
              "    width: 32px;\n",
              "  }\n",
              "\n",
              "  .colab-df-quickchart:hover {\n",
              "    background-color: var(--hover-bg-color);\n",
              "    box-shadow: 0 1px 2px rgba(60, 64, 67, 0.3), 0 1px 3px 1px rgba(60, 64, 67, 0.15);\n",
              "    fill: var(--button-hover-fill-color);\n",
              "  }\n",
              "\n",
              "  .colab-df-quickchart-complete:disabled,\n",
              "  .colab-df-quickchart-complete:disabled:hover {\n",
              "    background-color: var(--disabled-bg-color);\n",
              "    fill: var(--disabled-fill-color);\n",
              "    box-shadow: none;\n",
              "  }\n",
              "\n",
              "  .colab-df-spinner {\n",
              "    border: 2px solid var(--fill-color);\n",
              "    border-color: transparent;\n",
              "    border-bottom-color: var(--fill-color);\n",
              "    animation:\n",
              "      spin 1s steps(1) infinite;\n",
              "  }\n",
              "\n",
              "  @keyframes spin {\n",
              "    0% {\n",
              "      border-color: transparent;\n",
              "      border-bottom-color: var(--fill-color);\n",
              "      border-left-color: var(--fill-color);\n",
              "    }\n",
              "    20% {\n",
              "      border-color: transparent;\n",
              "      border-left-color: var(--fill-color);\n",
              "      border-top-color: var(--fill-color);\n",
              "    }\n",
              "    30% {\n",
              "      border-color: transparent;\n",
              "      border-left-color: var(--fill-color);\n",
              "      border-top-color: var(--fill-color);\n",
              "      border-right-color: var(--fill-color);\n",
              "    }\n",
              "    40% {\n",
              "      border-color: transparent;\n",
              "      border-right-color: var(--fill-color);\n",
              "      border-top-color: var(--fill-color);\n",
              "    }\n",
              "    60% {\n",
              "      border-color: transparent;\n",
              "      border-right-color: var(--fill-color);\n",
              "    }\n",
              "    80% {\n",
              "      border-color: transparent;\n",
              "      border-right-color: var(--fill-color);\n",
              "      border-bottom-color: var(--fill-color);\n",
              "    }\n",
              "    90% {\n",
              "      border-color: transparent;\n",
              "      border-bottom-color: var(--fill-color);\n",
              "    }\n",
              "  }\n",
              "</style>\n",
              "\n",
              "  <script>\n",
              "    async function quickchart(key) {\n",
              "      const quickchartButtonEl =\n",
              "        document.querySelector('#' + key + ' button');\n",
              "      quickchartButtonEl.disabled = true;  // To prevent multiple clicks.\n",
              "      quickchartButtonEl.classList.add('colab-df-spinner');\n",
              "      try {\n",
              "        const charts = await google.colab.kernel.invokeFunction(\n",
              "            'suggestCharts', [key], {});\n",
              "      } catch (error) {\n",
              "        console.error('Error during call to suggestCharts:', error);\n",
              "      }\n",
              "      quickchartButtonEl.classList.remove('colab-df-spinner');\n",
              "      quickchartButtonEl.classList.add('colab-df-quickchart-complete');\n",
              "    }\n",
              "    (() => {\n",
              "      let quickchartButtonEl =\n",
              "        document.querySelector('#df-83c276a8-2bf9-4ea4-ac2a-affd7ab9d8d6 button');\n",
              "      quickchartButtonEl.style.display =\n",
              "        google.colab.kernel.accessAllowed ? 'block' : 'none';\n",
              "    })();\n",
              "  </script>\n",
              "</div>\n",
              "    </div>\n",
              "  </div>\n"
            ]
          },
          "metadata": {},
          "execution_count": 44
        }
      ]
    },
    {
      "cell_type": "markdown",
      "source": [
        "# Méthodes de ML"
      ],
      "metadata": {
        "id": "npqCNyXF1361"
      }
    },
    {
      "cell_type": "code",
      "source": [
        "# Pour le traitement 1\n",
        "# predictor=[]\n",
        "# for i in range(21):\n",
        "#   predictor.append(\"x_\"+str(i))\n",
        "#   predictor.append(\"y_\"+str(i))\n",
        "\n",
        "# Pour le traitement 2\n",
        "predictor=[\"d_\"+str(i) for i in range(1,21) if i!=9]\n",
        "\n",
        "target = ['lettre']"
      ],
      "metadata": {
        "id": "iPul_Yd2NBz0"
      },
      "execution_count": 45,
      "outputs": []
    },
    {
      "cell_type": "code",
      "source": [
        "# X=df[predictor].values\n",
        "# y = df[target].values"
      ],
      "metadata": {
        "id": "p7ZtZAv6NT5E"
      },
      "execution_count": 5,
      "outputs": []
    },
    {
      "cell_type": "code",
      "source": [
        "# from sklearn.model_selection import train_test_split\n",
        "# X_train, X_test, y_train, y_test = train_test_split(X, y, test_size=0.3, random_state=42)"
      ],
      "metadata": {
        "id": "1JArpIBQ0ON-"
      },
      "execution_count": 6,
      "outputs": []
    },
    {
      "cell_type": "code",
      "source": [
        "import tensorflow as tf\n",
        "from sklearn.model_selection import train_test_split\n",
        "from sklearn.preprocessing import StandardScaler, LabelEncoder\n",
        "from tensorflow.keras.models import Sequential\n",
        "from tensorflow.keras.layers import Dense"
      ],
      "metadata": {
        "id": "qOvv72a80mm0"
      },
      "execution_count": 47,
      "outputs": []
    },
    {
      "cell_type": "code",
      "source": [
        "X=df[predictor]\n",
        "y = df[target]"
      ],
      "metadata": {
        "id": "orI-mJa-pouw"
      },
      "execution_count": 48,
      "outputs": []
    },
    {
      "cell_type": "code",
      "source": [
        "label_encoder = LabelEncoder()\n",
        "y_encoded = label_encoder.fit_transform(y)"
      ],
      "metadata": {
        "colab": {
          "base_uri": "https://localhost:8080/"
        },
        "id": "UBrV72DEp_z4",
        "outputId": "80a8fd6a-39de-4a27-a1e0-b598055020fb"
      },
      "execution_count": 49,
      "outputs": [
        {
          "output_type": "stream",
          "name": "stderr",
          "text": [
            "/usr/local/lib/python3.10/dist-packages/sklearn/preprocessing/_label.py:116: DataConversionWarning: A column-vector y was passed when a 1d array was expected. Please change the shape of y to (n_samples, ), for example using ravel().\n",
            "  y = column_or_1d(y, warn=True)\n"
          ]
        }
      ]
    },
    {
      "cell_type": "code",
      "source": [
        "X_train, X_test, y_train, y_test = train_test_split(X, y_encoded, test_size=0.2, random_state=42)"
      ],
      "metadata": {
        "id": "TL-z3JgBqFwI"
      },
      "execution_count": 50,
      "outputs": []
    },
    {
      "cell_type": "code",
      "source": [
        "scaler = StandardScaler()\n",
        "X_train = scaler.fit_transform(X_train)\n",
        "X_test = scaler.transform(X_test)"
      ],
      "metadata": {
        "id": "cowafC6kme1U"
      },
      "execution_count": 51,
      "outputs": []
    },
    {
      "cell_type": "code",
      "source": [
        "model = Sequential()\n",
        "model.add(Dense(64, input_dim=X_train.shape[1], activation='relu'))\n",
        "model.add(Dense(32, activation='relu'))\n",
        "model.add(Dense(len(label_encoder.classes_), activation='softmax'))\n",
        "\n",
        "model.compile(optimizer='adam', loss='sparse_categorical_crossentropy', metrics=['accuracy'])"
      ],
      "metadata": {
        "id": "Q89vZxMmoLTe"
      },
      "execution_count": 52,
      "outputs": []
    },
    {
      "cell_type": "code",
      "source": [
        "model.fit(X_train, y_train, epochs=50, batch_size=32, validation_split=0.2)"
      ],
      "metadata": {
        "colab": {
          "base_uri": "https://localhost:8080/"
        },
        "id": "cgQyVgA3oSLA",
        "outputId": "eea486d4-1744-410e-e2bc-b1f3622e306f"
      },
      "execution_count": 53,
      "outputs": [
        {
          "output_type": "stream",
          "name": "stdout",
          "text": [
            "Epoch 1/50\n",
            "10/10 [==============================] - 1s 27ms/step - loss: 1.0773 - accuracy: 0.4054 - val_loss: 0.8620 - val_accuracy: 0.6533\n",
            "Epoch 2/50\n",
            "10/10 [==============================] - 0s 7ms/step - loss: 0.8086 - accuracy: 0.7770 - val_loss: 0.6741 - val_accuracy: 0.8667\n",
            "Epoch 3/50\n",
            "10/10 [==============================] - 0s 6ms/step - loss: 0.6392 - accuracy: 0.8885 - val_loss: 0.5471 - val_accuracy: 0.9200\n",
            "Epoch 4/50\n",
            "10/10 [==============================] - 0s 6ms/step - loss: 0.5118 - accuracy: 0.9426 - val_loss: 0.4450 - val_accuracy: 0.9600\n",
            "Epoch 5/50\n",
            "10/10 [==============================] - 0s 7ms/step - loss: 0.4082 - accuracy: 0.9730 - val_loss: 0.3570 - val_accuracy: 0.9733\n",
            "Epoch 6/50\n",
            "10/10 [==============================] - 0s 7ms/step - loss: 0.3231 - accuracy: 0.9831 - val_loss: 0.2798 - val_accuracy: 0.9733\n",
            "Epoch 7/50\n",
            "10/10 [==============================] - 0s 7ms/step - loss: 0.2539 - accuracy: 0.9831 - val_loss: 0.2141 - val_accuracy: 0.9733\n",
            "Epoch 8/50\n",
            "10/10 [==============================] - 0s 8ms/step - loss: 0.1946 - accuracy: 0.9966 - val_loss: 0.1633 - val_accuracy: 0.9733\n",
            "Epoch 9/50\n",
            "10/10 [==============================] - 0s 8ms/step - loss: 0.1489 - accuracy: 1.0000 - val_loss: 0.1236 - val_accuracy: 1.0000\n",
            "Epoch 10/50\n",
            "10/10 [==============================] - 0s 6ms/step - loss: 0.1135 - accuracy: 1.0000 - val_loss: 0.0939 - val_accuracy: 1.0000\n",
            "Epoch 11/50\n",
            "10/10 [==============================] - 0s 8ms/step - loss: 0.0864 - accuracy: 1.0000 - val_loss: 0.0739 - val_accuracy: 1.0000\n",
            "Epoch 12/50\n",
            "10/10 [==============================] - 0s 6ms/step - loss: 0.0674 - accuracy: 1.0000 - val_loss: 0.0594 - val_accuracy: 1.0000\n",
            "Epoch 13/50\n",
            "10/10 [==============================] - 0s 6ms/step - loss: 0.0538 - accuracy: 1.0000 - val_loss: 0.0478 - val_accuracy: 1.0000\n",
            "Epoch 14/50\n",
            "10/10 [==============================] - 0s 6ms/step - loss: 0.0432 - accuracy: 1.0000 - val_loss: 0.0386 - val_accuracy: 1.0000\n",
            "Epoch 15/50\n",
            "10/10 [==============================] - 0s 8ms/step - loss: 0.0352 - accuracy: 1.0000 - val_loss: 0.0317 - val_accuracy: 1.0000\n",
            "Epoch 16/50\n",
            "10/10 [==============================] - 0s 6ms/step - loss: 0.0294 - accuracy: 1.0000 - val_loss: 0.0260 - val_accuracy: 1.0000\n",
            "Epoch 17/50\n",
            "10/10 [==============================] - 0s 6ms/step - loss: 0.0246 - accuracy: 1.0000 - val_loss: 0.0221 - val_accuracy: 1.0000\n",
            "Epoch 18/50\n",
            "10/10 [==============================] - 0s 6ms/step - loss: 0.0210 - accuracy: 1.0000 - val_loss: 0.0192 - val_accuracy: 1.0000\n",
            "Epoch 19/50\n",
            "10/10 [==============================] - 0s 6ms/step - loss: 0.0181 - accuracy: 1.0000 - val_loss: 0.0168 - val_accuracy: 1.0000\n",
            "Epoch 20/50\n",
            "10/10 [==============================] - 0s 8ms/step - loss: 0.0158 - accuracy: 1.0000 - val_loss: 0.0147 - val_accuracy: 1.0000\n",
            "Epoch 21/50\n",
            "10/10 [==============================] - 0s 8ms/step - loss: 0.0139 - accuracy: 1.0000 - val_loss: 0.0130 - val_accuracy: 1.0000\n",
            "Epoch 22/50\n",
            "10/10 [==============================] - 0s 6ms/step - loss: 0.0124 - accuracy: 1.0000 - val_loss: 0.0116 - val_accuracy: 1.0000\n",
            "Epoch 23/50\n",
            "10/10 [==============================] - 0s 7ms/step - loss: 0.0111 - accuracy: 1.0000 - val_loss: 0.0105 - val_accuracy: 1.0000\n",
            "Epoch 24/50\n",
            "10/10 [==============================] - 0s 6ms/step - loss: 0.0099 - accuracy: 1.0000 - val_loss: 0.0095 - val_accuracy: 1.0000\n",
            "Epoch 25/50\n",
            "10/10 [==============================] - 0s 8ms/step - loss: 0.0089 - accuracy: 1.0000 - val_loss: 0.0086 - val_accuracy: 1.0000\n",
            "Epoch 26/50\n",
            "10/10 [==============================] - 0s 7ms/step - loss: 0.0081 - accuracy: 1.0000 - val_loss: 0.0078 - val_accuracy: 1.0000\n",
            "Epoch 27/50\n",
            "10/10 [==============================] - 0s 6ms/step - loss: 0.0074 - accuracy: 1.0000 - val_loss: 0.0072 - val_accuracy: 1.0000\n",
            "Epoch 28/50\n",
            "10/10 [==============================] - 0s 8ms/step - loss: 0.0068 - accuracy: 1.0000 - val_loss: 0.0067 - val_accuracy: 1.0000\n",
            "Epoch 29/50\n",
            "10/10 [==============================] - 0s 9ms/step - loss: 0.0062 - accuracy: 1.0000 - val_loss: 0.0061 - val_accuracy: 1.0000\n",
            "Epoch 30/50\n",
            "10/10 [==============================] - 0s 6ms/step - loss: 0.0057 - accuracy: 1.0000 - val_loss: 0.0056 - val_accuracy: 1.0000\n",
            "Epoch 31/50\n",
            "10/10 [==============================] - 0s 7ms/step - loss: 0.0053 - accuracy: 1.0000 - val_loss: 0.0052 - val_accuracy: 1.0000\n",
            "Epoch 32/50\n",
            "10/10 [==============================] - 0s 6ms/step - loss: 0.0049 - accuracy: 1.0000 - val_loss: 0.0049 - val_accuracy: 1.0000\n",
            "Epoch 33/50\n",
            "10/10 [==============================] - 0s 8ms/step - loss: 0.0045 - accuracy: 1.0000 - val_loss: 0.0045 - val_accuracy: 1.0000\n",
            "Epoch 34/50\n",
            "10/10 [==============================] - 0s 6ms/step - loss: 0.0042 - accuracy: 1.0000 - val_loss: 0.0042 - val_accuracy: 1.0000\n",
            "Epoch 35/50\n",
            "10/10 [==============================] - 0s 6ms/step - loss: 0.0040 - accuracy: 1.0000 - val_loss: 0.0040 - val_accuracy: 1.0000\n",
            "Epoch 36/50\n",
            "10/10 [==============================] - 0s 8ms/step - loss: 0.0037 - accuracy: 1.0000 - val_loss: 0.0037 - val_accuracy: 1.0000\n",
            "Epoch 37/50\n",
            "10/10 [==============================] - 0s 8ms/step - loss: 0.0035 - accuracy: 1.0000 - val_loss: 0.0035 - val_accuracy: 1.0000\n",
            "Epoch 38/50\n",
            "10/10 [==============================] - 0s 6ms/step - loss: 0.0033 - accuracy: 1.0000 - val_loss: 0.0033 - val_accuracy: 1.0000\n",
            "Epoch 39/50\n",
            "10/10 [==============================] - 0s 6ms/step - loss: 0.0031 - accuracy: 1.0000 - val_loss: 0.0031 - val_accuracy: 1.0000\n",
            "Epoch 40/50\n",
            "10/10 [==============================] - 0s 6ms/step - loss: 0.0029 - accuracy: 1.0000 - val_loss: 0.0029 - val_accuracy: 1.0000\n",
            "Epoch 41/50\n",
            "10/10 [==============================] - 0s 8ms/step - loss: 0.0027 - accuracy: 1.0000 - val_loss: 0.0028 - val_accuracy: 1.0000\n",
            "Epoch 42/50\n",
            "10/10 [==============================] - 0s 7ms/step - loss: 0.0025 - accuracy: 1.0000 - val_loss: 0.0026 - val_accuracy: 1.0000\n",
            "Epoch 43/50\n",
            "10/10 [==============================] - 0s 9ms/step - loss: 0.0024 - accuracy: 1.0000 - val_loss: 0.0024 - val_accuracy: 1.0000\n",
            "Epoch 44/50\n",
            "10/10 [==============================] - 0s 6ms/step - loss: 0.0022 - accuracy: 1.0000 - val_loss: 0.0023 - val_accuracy: 1.0000\n",
            "Epoch 45/50\n",
            "10/10 [==============================] - 0s 8ms/step - loss: 0.0021 - accuracy: 1.0000 - val_loss: 0.0021 - val_accuracy: 1.0000\n",
            "Epoch 46/50\n",
            "10/10 [==============================] - 0s 6ms/step - loss: 0.0019 - accuracy: 1.0000 - val_loss: 0.0020 - val_accuracy: 1.0000\n",
            "Epoch 47/50\n",
            "10/10 [==============================] - 0s 6ms/step - loss: 0.0018 - accuracy: 1.0000 - val_loss: 0.0019 - val_accuracy: 1.0000\n",
            "Epoch 48/50\n",
            "10/10 [==============================] - 0s 8ms/step - loss: 0.0017 - accuracy: 1.0000 - val_loss: 0.0018 - val_accuracy: 1.0000\n",
            "Epoch 49/50\n",
            "10/10 [==============================] - 0s 6ms/step - loss: 0.0016 - accuracy: 1.0000 - val_loss: 0.0017 - val_accuracy: 1.0000\n",
            "Epoch 50/50\n",
            "10/10 [==============================] - 0s 6ms/step - loss: 0.0015 - accuracy: 1.0000 - val_loss: 0.0016 - val_accuracy: 1.0000\n"
          ]
        },
        {
          "output_type": "execute_result",
          "data": {
            "text/plain": [
              "<keras.src.callbacks.History at 0x7cf514bd9e40>"
            ]
          },
          "metadata": {},
          "execution_count": 53
        }
      ]
    },
    {
      "cell_type": "code",
      "source": [
        "loss, accuracy = model.evaluate(X_test, y_test)\n",
        "print(f\"Loss: {loss}, Accuracy: {accuracy}\")"
      ],
      "metadata": {
        "colab": {
          "base_uri": "https://localhost:8080/"
        },
        "id": "uSQJmnTtoYfO",
        "outputId": "87503e34-30eb-499a-d759-013b0d04d229"
      },
      "execution_count": 54,
      "outputs": [
        {
          "output_type": "stream",
          "name": "stdout",
          "text": [
            "3/3 [==============================] - 0s 5ms/step - loss: 0.0034 - accuracy: 1.0000\n",
            "Loss: 0.0034185689873993397, Accuracy: 1.0\n"
          ]
        }
      ]
    },
    {
      "cell_type": "code",
      "source": [
        "predictions = model.predict(X_test)"
      ],
      "metadata": {
        "colab": {
          "base_uri": "https://localhost:8080/"
        },
        "id": "2GGL4JnKod-G",
        "outputId": "302e13c1-f3b3-4673-ccc0-880dd70b3a6f"
      },
      "execution_count": 55,
      "outputs": [
        {
          "output_type": "stream",
          "name": "stdout",
          "text": [
            "3/3 [==============================] - 0s 6ms/step\n"
          ]
        }
      ]
    },
    {
      "cell_type": "code",
      "source": [
        "print(predictions)"
      ],
      "metadata": {
        "colab": {
          "base_uri": "https://localhost:8080/"
        },
        "id": "FqBeiq_4ojN-",
        "outputId": "0c38b95b-8e4f-4634-9a23-d14e94723952"
      },
      "execution_count": 56,
      "outputs": [
        {
          "output_type": "stream",
          "name": "stdout",
          "text": [
            "[[9.99523461e-01 6.33417221e-05 4.13089991e-04]\n",
            " [9.99969900e-01 9.31320392e-06 2.07678386e-05]\n",
            " [9.97577429e-01 1.17897987e-03 1.24352844e-03]\n",
            " [8.92650336e-04 1.51240837e-03 9.97594833e-01]\n",
            " [4.21459445e-05 9.99902904e-01 5.48382959e-05]\n",
            " [9.38309386e-05 9.99431252e-01 4.74746514e-04]\n",
            " [1.31455145e-03 2.40127929e-03 9.96284187e-01]\n",
            " [1.27976760e-04 9.99841928e-01 3.01206655e-05]\n",
            " [9.99432206e-01 4.65637095e-05 5.21218637e-04]\n",
            " [8.60574713e-04 1.48001383e-03 9.97659385e-01]\n",
            " [2.90587777e-04 9.93488967e-01 6.22046320e-03]\n",
            " [3.61652987e-04 1.20714295e-03 9.98431206e-01]\n",
            " [9.03733773e-04 3.30052292e-03 9.95795727e-01]\n",
            " [1.29291206e-03 3.14077130e-03 9.95566368e-01]\n",
            " [3.41262406e-04 9.98863578e-01 7.95044529e-04]\n",
            " [9.99953687e-01 1.98150319e-05 2.64680730e-05]\n",
            " [1.47544651e-03 4.14873799e-03 9.94375765e-01]\n",
            " [9.99999583e-01 2.41245658e-07 8.52665707e-08]\n",
            " [2.50572242e-07 9.99999583e-01 6.68827269e-08]\n",
            " [9.99950469e-01 1.79644230e-05 3.14474964e-05]\n",
            " [9.99923289e-01 3.75067029e-05 3.90678069e-05]\n",
            " [8.71747543e-05 9.99896467e-01 1.63627901e-05]\n",
            " [3.98190197e-04 6.61613652e-04 9.98940170e-01]\n",
            " [9.99933779e-01 2.60681663e-05 4.00406425e-05]\n",
            " [8.92862678e-01 1.06447488e-01 6.89710956e-04]\n",
            " [9.99986589e-01 6.43275689e-06 6.94216214e-06]\n",
            " [9.99962747e-01 2.58234850e-05 1.13597071e-05]\n",
            " [9.99722958e-01 7.03190308e-05 2.06823257e-04]\n",
            " [1.59316172e-04 9.98403370e-01 1.43722224e-03]\n",
            " [9.99688268e-01 2.11788647e-04 1.00030804e-04]\n",
            " [9.99971926e-01 1.34385664e-05 1.45446693e-05]\n",
            " [9.99834776e-01 5.36960215e-05 1.11385481e-04]\n",
            " [2.57141888e-04 3.34917277e-04 9.99407887e-01]\n",
            " [3.21095111e-04 9.99395967e-01 2.82836787e-04]\n",
            " [7.34987552e-04 1.65082898e-03 9.97614086e-01]\n",
            " [3.95083858e-04 1.87845761e-03 9.97726500e-01]\n",
            " [3.57911340e-04 9.98874545e-01 7.67522666e-04]\n",
            " [4.51518717e-04 3.16472317e-04 9.99232054e-01]\n",
            " [2.36449312e-04 9.99355972e-01 4.07572923e-04]\n",
            " [2.09548598e-04 9.99265432e-01 5.25041134e-04]\n",
            " [1.44894596e-03 4.06834204e-03 9.94482696e-01]\n",
            " [2.05229997e-04 4.56883106e-04 9.99337852e-01]\n",
            " [8.22800095e-04 2.03192001e-03 9.97145176e-01]\n",
            " [4.63991513e-04 4.05730854e-04 9.99130249e-01]\n",
            " [1.49715412e-03 1.05615426e-03 9.97446656e-01]\n",
            " [9.99918282e-01 3.00287720e-05 5.15835163e-05]\n",
            " [9.99934375e-01 2.61946316e-05 3.92894362e-05]\n",
            " [6.33036718e-04 5.27428754e-04 9.98839557e-01]\n",
            " [9.99819517e-01 1.01095495e-04 7.94360167e-05]\n",
            " [1.96068911e-04 6.77919830e-04 9.99125957e-01]\n",
            " [3.73920077e-04 4.56811278e-04 9.99169290e-01]\n",
            " [6.61712314e-04 5.89721545e-04 9.98748600e-01]\n",
            " [9.56848264e-01 4.21801023e-02 9.71614732e-04]\n",
            " [5.81265136e-04 3.91898706e-04 9.99026835e-01]\n",
            " [1.13366661e-03 1.88434462e-03 9.96981859e-01]\n",
            " [2.01381627e-03 8.61218490e-04 9.97124970e-01]\n",
            " [9.51126625e-04 5.76722203e-03 9.93281603e-01]\n",
            " [2.54363846e-03 8.11984879e-04 9.96644378e-01]\n",
            " [9.99980628e-01 7.87531008e-06 1.14896075e-05]\n",
            " [1.00741512e-03 1.70000899e-03 9.97292578e-01]\n",
            " [1.12512161e-03 8.40000517e-04 9.98034894e-01]\n",
            " [1.39635071e-04 9.98612463e-01 1.24780252e-03]\n",
            " [5.98274521e-04 4.14714124e-03 9.95254636e-01]\n",
            " [9.99578416e-01 9.71712434e-05 3.24443943e-04]\n",
            " [1.10109651e-03 2.48850673e-03 9.96410370e-01]\n",
            " [9.99876261e-01 2.97589631e-05 9.39282399e-05]\n",
            " [9.99858379e-01 5.15306674e-05 9.01823078e-05]\n",
            " [7.21624005e-04 1.15672825e-03 9.98121679e-01]\n",
            " [9.99773502e-01 7.54278517e-05 1.51153887e-04]\n",
            " [2.58292956e-03 9.89055610e-04 9.96428013e-01]\n",
            " [2.95182550e-03 9.56556527e-04 9.96091545e-01]\n",
            " [9.99935448e-01 2.74352515e-05 3.70752459e-05]\n",
            " [3.90714128e-08 9.99999940e-01 3.62973940e-09]\n",
            " [2.22014356e-03 6.71637303e-04 9.97108161e-01]\n",
            " [1.07501575e-03 6.70996378e-04 9.98254001e-01]\n",
            " [9.97972846e-01 8.75879487e-04 1.15127466e-03]\n",
            " [7.53203756e-04 1.44863443e-03 9.97798204e-01]\n",
            " [5.47707605e-04 9.42187151e-04 9.98510003e-01]\n",
            " [9.99642611e-01 5.65072260e-05 3.00906191e-04]\n",
            " [2.11028382e-04 9.97491360e-01 2.29761936e-03]\n",
            " [5.09869657e-04 9.78382289e-01 2.11077631e-02]\n",
            " [9.99955833e-01 2.08024721e-05 2.32470629e-05]\n",
            " [9.99999940e-01 1.51239146e-08 1.03668935e-10]\n",
            " [1.35540846e-04 9.99037325e-01 8.27110140e-04]\n",
            " [3.93867813e-04 4.11218352e-04 9.99194920e-01]\n",
            " [9.99995172e-01 2.70540977e-06 1.97470058e-06]\n",
            " [1.95103500e-03 5.31632500e-03 9.92732644e-01]\n",
            " [1.08552966e-04 9.99421954e-01 4.69381252e-04]\n",
            " [2.39623361e-04 1.25199556e-03 9.98508394e-01]\n",
            " [9.99649048e-01 7.93230138e-05 2.71618774e-04]\n",
            " [4.00738977e-03 1.76094414e-03 9.94231641e-01]\n",
            " [9.99940395e-01 2.91520864e-05 3.04070381e-05]\n",
            " [9.99974012e-01 1.66472637e-05 9.33015053e-06]]\n"
          ]
        }
      ]
    },
    {
      "cell_type": "code",
      "source": [
        "y_test"
      ],
      "metadata": {
        "colab": {
          "base_uri": "https://localhost:8080/"
        },
        "id": "YXuK-5jjrO1y",
        "outputId": "d3b9aac3-b527-46aa-de57-4ef08ddd01ff"
      },
      "execution_count": 57,
      "outputs": [
        {
          "output_type": "execute_result",
          "data": {
            "text/plain": [
              "array([0, 0, 0, 2, 1, 1, 2, 1, 0, 2, 1, 2, 2, 2, 1, 0, 2, 0, 1, 0, 0, 1,\n",
              "       2, 0, 0, 0, 0, 0, 1, 0, 0, 0, 2, 1, 2, 2, 1, 2, 1, 1, 2, 2, 2, 2,\n",
              "       2, 0, 0, 2, 0, 2, 2, 2, 0, 2, 2, 2, 2, 2, 0, 2, 2, 1, 2, 0, 2, 0,\n",
              "       0, 2, 0, 2, 2, 0, 1, 2, 2, 0, 2, 2, 0, 1, 1, 0, 0, 1, 2, 0, 2, 1,\n",
              "       2, 0, 2, 0, 0])"
            ]
          },
          "metadata": {},
          "execution_count": 57
        }
      ]
    },
    {
      "cell_type": "code",
      "source": [],
      "metadata": {
        "id": "qLzwMYiysmVZ"
      },
      "execution_count": null,
      "outputs": []
    }
  ]
}